{
 "cells": [
  {
   "cell_type": "code",
   "execution_count": 125,
   "id": "f0ab05ef-85e2-4599-9f08-173e75ad3390",
   "metadata": {},
   "outputs": [],
   "source": [
    "import pandas as pd\n",
    "from statsmodels.formula.api import ols\n",
    "from moexalgo import Ticker, session\n",
    "\n",
    "# session.TOKEN = \n",
    "\n",
    "ticker = 'SBER'\n",
    "ticker_2 = Ticker(ticker)\n",
    "\n",
    "start_date = '2024-01-01'\n",
    "end_date = '2025-04-22'\n",
    "data = ticker_2.tradestats(start=start_date, end=end_date)\n",
    "\n",
    "columns_to_include = ['tradedate', 'tradetime', 'pr_open', 'pr_high', 'pr_low', 'pr_close', 'vol', 'pr_vwap', 'vol_b', 'vol_s']\n",
    "# Создание нового DataFrame\n",
    "data_2 = data[columns_to_include]"
   ]
  },
  {
   "cell_type": "code",
   "execution_count": 126,
   "id": "76a56bc4-0172-40eb-a7ef-22043c266663",
   "metadata": {},
   "outputs": [
    {
     "name": "stdout",
     "output_type": "stream",
     "text": [
      "            pr_open  pr_high  pr_low  pr_close     дельта\n",
      "tradedate                                                \n",
      "2024-01-03   271.75   274.70  271.00    274.56  27.048987\n",
      "2024-01-04   274.68   275.48  273.70    274.12 -16.578051\n",
      "2024-01-05   274.30   274.69  272.80    273.62  -6.218262\n",
      "2024-01-08   273.59   277.00  273.53    276.76  17.103691\n",
      "2024-01-09   276.94   278.00  274.71    275.28   4.216465\n",
      "...             ...      ...     ...       ...        ...\n",
      "2024-03-27   294.45   295.11  293.47    295.10   7.242152\n",
      "2024-03-28   295.51   299.30  295.51    299.00  19.492820\n",
      "2024-03-29   299.37   299.50  298.00    298.72  -6.901107\n",
      "2024-04-01   299.99   301.65  299.50    300.43   9.743676\n",
      "2024-04-02   300.42   300.60  298.95    300.00  -6.818959\n",
      "\n",
      "[63 rows x 5 columns]\n"
     ]
    },
    {
     "name": "stderr",
     "output_type": "stream",
     "text": [
      "C:\\Users\\Anton\\AppData\\Local\\Temp\\ipykernel_21484\\433076038.py:2: SettingWithCopyWarning: \n",
      "A value is trying to be set on a copy of a slice from a DataFrame.\n",
      "Try using .loc[row_indexer,col_indexer] = value instead\n",
      "\n",
      "See the caveats in the documentation: https://pandas.pydata.org/pandas-docs/stable/user_guide/indexing.html#returning-a-view-versus-a-copy\n",
      "  data_2['tradedate'] = pd.to_datetime(data_2['tradedate'])\n"
     ]
    }
   ],
   "source": [
    "# Преобразуем tradedate в формат datetime\n",
    "data_2['tradedate'] = pd.to_datetime(data_2['tradedate'])\n",
    "\n",
    "# Группируем данные по дате\n",
    "data_3 = data_2.groupby('tradedate').agg(\n",
    "    pr_open=('pr_open', 'first'),  # Первое значение open\n",
    "    pr_high=('pr_high', 'max'),    # Максимальное значение high\n",
    "    pr_low=('pr_low', 'min'),      # Минимальное значение low\n",
    "    pr_close=('pr_close', 'last'), # Последнее значение close\n",
    "    pr_vwap=('pr_vwap',)\n",
    "    vol=('vol', 'sum'),           # Суммарный объем\n",
    "    vol_b=('vol_b', 'sum'),       # Суммарный объем покупок\n",
    "    vol_s=('vol_s', 'sum')        # Суммарный объем продаж\n",
    ")\n",
    "\n",
    "# Рассчитываем дельту\n",
    "data_3['дельта'] = (data_3['vol_b'] - data_3['vol_s']) / data_3['vol'] *100\n",
    "\n",
    "# Оставляем только нужные столбцы\n",
    "data_3 = data_3[['pr_open', 'pr_high', 'pr_low', 'pr_close', 'дельта']]\n",
    "\n",
    "print(data_3)"
   ]
  },
  {
   "cell_type": "code",
   "execution_count": 127,
   "id": "db6145ab-3486-4e9f-b8ba-2b8ef5fa2583",
   "metadata": {},
   "outputs": [
    {
     "name": "stdout",
     "output_type": "stream",
     "text": [
      "            pr_open  pr_high  pr_low  pr_close     дельта  close_+1  open_+1  \\\n",
      "tradedate                                                                      \n",
      "2024-01-03   271.75   274.70  271.00    274.56  27.048987    274.12   274.68   \n",
      "2024-01-04   274.68   275.48  273.70    274.12 -16.578051    273.62   274.30   \n",
      "2024-01-05   274.30   274.69  272.80    273.62  -6.218262    276.76   273.59   \n",
      "2024-01-08   273.59   277.00  273.53    276.76  17.103691    275.28   276.94   \n",
      "2024-01-09   276.94   278.00  274.71    275.28   4.216465    274.49   275.30   \n",
      "...             ...      ...     ...       ...        ...       ...      ...   \n",
      "2024-03-26   294.44   295.82  293.04    294.11  -2.557359    295.10   294.45   \n",
      "2024-03-27   294.45   295.11  293.47    295.10   7.242152    299.00   295.51   \n",
      "2024-03-28   295.51   299.30  295.51    299.00  19.492820    298.72   299.37   \n",
      "2024-03-29   299.37   299.50  298.00    298.72  -6.901107    300.43   299.99   \n",
      "2024-04-01   299.99   301.65  299.50    300.43   9.743676    300.00   300.42   \n",
      "\n",
      "            res_next  close  high   low  \n",
      "tradedate                                \n",
      "2024-01-03        -1   2.81  2.95 -0.75  \n",
      "2024-01-04        -1  -0.56  0.80 -0.98  \n",
      "2024-01-05         1  -0.68  0.39 -1.50  \n",
      "2024-01-08        -1   3.17  3.41 -0.06  \n",
      "2024-01-09        -1  -1.66  1.06 -2.23  \n",
      "...              ...    ...   ...   ...  \n",
      "2024-03-26         1  -0.33  1.38 -1.40  \n",
      "2024-03-27         1   0.65  0.66 -0.98  \n",
      "2024-03-28        -1   3.49  3.79  0.00  \n",
      "2024-03-29         1  -0.65  0.13 -1.37  \n",
      "2024-04-01        -1   0.44  1.66 -0.49  \n",
      "\n",
      "[62 rows x 11 columns]\n"
     ]
    }
   ],
   "source": [
    "data_3['close_+1'] = data_3['pr_close'].shift(-1)\n",
    "data_3['open_+1'] = data_3['pr_open'].shift(-1)\n",
    "data_3['res_next'] = data_3.apply(lambda row: 1 if row['close_+1'] - row['open_+1'] > 0 else -1, axis=1)\n",
    "data_3 = data_3.iloc[:-1]\n",
    "data_3['close'] = data_3['pr_close'] - data_3['pr_open']\n",
    "data_3['high'] = data_3['pr_high'] - data_3['pr_open']\n",
    "data_3['low'] = data_3['pr_low'] - data_3['pr_open']\n",
    "print(data_3)"
   ]
  },
  {
   "cell_type": "code",
   "execution_count": 128,
   "id": "c49f3788-aa07-429e-ba29-52982de0965b",
   "metadata": {},
   "outputs": [],
   "source": [
    "data_3.to_excel('data_candles.xlsx')"
   ]
  },
  {
   "cell_type": "code",
   "execution_count": 136,
   "id": "116a1b2d-1d52-49c7-8e52-84f847f34c39",
   "metadata": {},
   "outputs": [
    {
     "name": "stdout",
     "output_type": "stream",
     "text": [
      "Learning rate set to 0.015045\n",
      "0:\tlearn: 0.7551020\ttest: 0.6153846\tbest: 0.6153846 (0)\ttotal: 6.51ms\tremaining: 6.51s\n",
      "Stopped by overfitting detector  (50 iterations wait)\n",
      "\n",
      "bestTest = 0.7692307692\n",
      "bestIteration = 28\n",
      "\n",
      "Shrink model to first 29 iterations.\n",
      "Test Accuracy: 0.7692\n"
     ]
    },
    {
     "data": {
      "image/png": "[encoded data removed]",
      "text/plain": [
       "<Figure size 1000x600 with 1 Axes>"
      ]
     },
     "metadata": {},
     "output_type": "display_data"
    }
   ],
   "source": [
    "import pandas as pd\n",
    "from catboost import CatBoostClassifier, Pool\n",
    "from sklearn.model_selection import train_test_split\n",
    "\n",
    "# Загрузка данных\n",
    "df = pd.read_excel('data_candles.xlsx')\n",
    "\n",
    "# # Сохраняем порядок временного ряда\n",
    "# df = df[::-1].reset_index(drop=True)\n",
    "\n",
    "# Разделение на признаки и целевую переменную\n",
    "X = df.drop('res_next', axis=1)\n",
    "y = df['res_next']\n",
    "\n",
    "# Разделение на train/test с сохранением временного порядка\n",
    "X_train, X_test, y_train, y_test = train_test_split(X, y, test_size=0.2, shuffle=False)\n",
    "\n",
    "# Создание CatBoost Pool\n",
    "train_pool = Pool(X_train, y_train)\n",
    "test_pool = Pool(X_test, y_test)\n",
    "\n",
    "# Параметры модели с Ordered Boosting\n",
    "model = CatBoostClassifier(\n",
    "    iterations=1000,\n",
    "    boosting_type='Ordered',\n",
    "    has_time=True,\n",
    "    loss_function='Logloss',\n",
    "    eval_metric='Accuracy',\n",
    "    early_stopping_rounds=50,\n",
    "    random_seed=42,\n",
    "    verbose=100\n",
    ")\n",
    "\n",
    "# Обучение модели\n",
    "model.fit(train_pool, eval_set=test_pool, use_best_model=True)\n",
    "\n",
    "# Оценка точности\n",
    "accuracy = model.score(X_test, y_test)\n",
    "print(f\"Test Accuracy: {accuracy:.4f}\")\n",
    "\n",
    "# Анализ важности признаков\n",
    "feature_importances = model.get_feature_importance()\n",
    "feature_names = X.columns\n",
    "\n",
    "# Визуализация важности признаков\n",
    "import matplotlib.pyplot as plt\n",
    "\n",
    "plt.figure(figsize=(10, 6))\n",
    "plt.barh(feature_names, feature_importances)\n",
    "plt.xlabel('Importance')\n",
    "plt.title('Feature Importance')\n",
    "plt.show()\n"
   ]
  },
  {
   "cell_type": "code",
   "execution_count": null,
   "id": "6502b856-f120-48ad-a925-a07769e37c13",
   "metadata": {},
   "outputs": [],
   "source": []
  }
 ],
 "metadata": {
  "kernelspec": {
   "display_name": "Python [conda env:base] *",
   "language": "python",
   "name": "conda-base-py"
  },
  "language_info": {
   "codemirror_mode": {
    "name": "ipython",
    "version": 3
   },
   "file_extension": ".py",
   "mimetype": "text/x-python",
   "name": "python",
   "nbconvert_exporter": "python",
   "pygments_lexer": "ipython3",
   "version": "3.12.7"
  }
 },
 "nbformat": 4,
 "nbformat_minor": 5
}
